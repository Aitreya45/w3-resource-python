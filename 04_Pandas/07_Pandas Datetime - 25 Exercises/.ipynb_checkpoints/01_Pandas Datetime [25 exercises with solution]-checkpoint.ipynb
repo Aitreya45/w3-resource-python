{
 "cells": [
  {
   "cell_type": "markdown",
   "metadata": {},
   "source": [
    "# <center>Pandas Datetime [25 exercises with solution]</center>"
   ]
  },
  {
   "cell_type": "code",
   "execution_count": 1,
   "metadata": {},
   "outputs": [],
   "source": [
    "# Importing necessary libraries:\n",
    "\n",
    "import numpy as np\n",
    "import pandas as pd"
   ]
  },
  {
   "cell_type": "code",
   "execution_count": 2,
   "metadata": {},
   "outputs": [
    {
     "data": {
      "text/html": [
       "<div>\n",
       "<style scoped>\n",
       "    .dataframe tbody tr th:only-of-type {\n",
       "        vertical-align: middle;\n",
       "    }\n",
       "\n",
       "    .dataframe tbody tr th {\n",
       "        vertical-align: top;\n",
       "    }\n",
       "\n",
       "    .dataframe thead th {\n",
       "        text-align: right;\n",
       "    }\n",
       "</style>\n",
       "<table border=\"1\" class=\"dataframe\">\n",
       "  <thead>\n",
       "    <tr style=\"text-align: right;\">\n",
       "      <th></th>\n",
       "      <th>Date_time</th>\n",
       "      <th>city</th>\n",
       "      <th>state/province</th>\n",
       "      <th>country</th>\n",
       "      <th>UFO_shape</th>\n",
       "      <th>length_of_encounter_seconds</th>\n",
       "      <th>described_duration_of_encounter</th>\n",
       "      <th>description</th>\n",
       "      <th>date_documented</th>\n",
       "      <th>latitude</th>\n",
       "      <th>longitude</th>\n",
       "    </tr>\n",
       "  </thead>\n",
       "  <tbody>\n",
       "    <tr>\n",
       "      <th>0</th>\n",
       "      <td>06-01-1910 15:00</td>\n",
       "      <td>wills point</td>\n",
       "      <td>tx</td>\n",
       "      <td>us</td>\n",
       "      <td>cigar</td>\n",
       "      <td>120</td>\n",
       "      <td>2 minutes</td>\n",
       "      <td>Cigar shaped object moving from West to East</td>\n",
       "      <td>04/16/2005</td>\n",
       "      <td>32.709167</td>\n",
       "      <td>-96.008056</td>\n",
       "    </tr>\n",
       "    <tr>\n",
       "      <th>1</th>\n",
       "      <td>06-11-1920 21:00</td>\n",
       "      <td>cicero</td>\n",
       "      <td>in</td>\n",
       "      <td>us</td>\n",
       "      <td>unknown</td>\n",
       "      <td>60</td>\n",
       "      <td>1 minute</td>\n",
       "      <td>((NUFORC Note:  Probable hoax.  Note date.  PD...</td>\n",
       "      <td>05/12/2009</td>\n",
       "      <td>40.123889</td>\n",
       "      <td>-86.013333</td>\n",
       "    </tr>\n",
       "    <tr>\n",
       "      <th>2</th>\n",
       "      <td>07-05-1929 14:00</td>\n",
       "      <td>buchanan  (or burns)</td>\n",
       "      <td>or</td>\n",
       "      <td>us</td>\n",
       "      <td>disk</td>\n",
       "      <td>60</td>\n",
       "      <td>1min</td>\n",
       "      <td>we were traveling east of burns&amp;#44clmbing up ...</td>\n",
       "      <td>08/16/2002</td>\n",
       "      <td>43.642500</td>\n",
       "      <td>-118.627500</td>\n",
       "    </tr>\n",
       "    <tr>\n",
       "      <th>3</th>\n",
       "      <td>06-01-1931 13:00</td>\n",
       "      <td>abilene</td>\n",
       "      <td>ks</td>\n",
       "      <td>us</td>\n",
       "      <td>disk</td>\n",
       "      <td>1800</td>\n",
       "      <td>30 min. approx.</td>\n",
       "      <td>This is a what my mother related to me regardi...</td>\n",
       "      <td>02/14/2006</td>\n",
       "      <td>38.917222</td>\n",
       "      <td>-97.213611</td>\n",
       "    </tr>\n",
       "    <tr>\n",
       "      <th>4</th>\n",
       "      <td>06-01-1939 20:00</td>\n",
       "      <td>waterloo</td>\n",
       "      <td>al</td>\n",
       "      <td>us</td>\n",
       "      <td>fireball</td>\n",
       "      <td>300</td>\n",
       "      <td>5 minutes</td>\n",
       "      <td>4 high school students see bright&amp;#44 ground-l...</td>\n",
       "      <td>02/21/2014</td>\n",
       "      <td>34.918056</td>\n",
       "      <td>-88.064167</td>\n",
       "    </tr>\n",
       "  </tbody>\n",
       "</table>\n",
       "</div>"
      ],
      "text/plain": [
       "          Date_time                  city state/province country UFO_shape  \\\n",
       "0  06-01-1910 15:00           wills point             tx      us     cigar   \n",
       "1  06-11-1920 21:00                cicero             in      us   unknown   \n",
       "2  07-05-1929 14:00  buchanan  (or burns)             or      us      disk   \n",
       "3  06-01-1931 13:00               abilene             ks      us      disk   \n",
       "4  06-01-1939 20:00              waterloo             al      us  fireball   \n",
       "\n",
       "   length_of_encounter_seconds described_duration_of_encounter  \\\n",
       "0                          120                       2 minutes   \n",
       "1                           60                        1 minute   \n",
       "2                           60                            1min   \n",
       "3                         1800                 30 min. approx.   \n",
       "4                          300                       5 minutes   \n",
       "\n",
       "                                         description date_documented  \\\n",
       "0       Cigar shaped object moving from West to East      04/16/2005   \n",
       "1  ((NUFORC Note:  Probable hoax.  Note date.  PD...      05/12/2009   \n",
       "2  we were traveling east of burns&#44clmbing up ...      08/16/2002   \n",
       "3  This is a what my mother related to me regardi...      02/14/2006   \n",
       "4  4 high school students see bright&#44 ground-l...      02/21/2014   \n",
       "\n",
       "    latitude   longitude  \n",
       "0  32.709167  -96.008056  \n",
       "1  40.123889  -86.013333  \n",
       "2  43.642500 -118.627500  \n",
       "3  38.917222  -97.213611  \n",
       "4  34.918056  -88.064167  "
      ]
     },
     "execution_count": 2,
     "metadata": {},
     "output_type": "execute_result"
    }
   ],
   "source": [
    "# Knowing about the csv file:\n",
    "\n",
    "ufo_data = pd.read_csv('ufo.csv')\n",
    "ufo_data.head()"
   ]
  },
  {
   "cell_type": "markdown",
   "metadata": {},
   "source": [
    "![Column Name Description](https://i.imgur.com/UrE9JKv.png)"
   ]
  },
  {
   "cell_type": "markdown",
   "metadata": {},
   "source": [
    "## 25 Exercises Solutions"
   ]
  },
  {
   "cell_type": "markdown",
   "metadata": {},
   "source": [
    "### 1. Write a Pandas program to create the todays date."
   ]
  },
  {
   "cell_type": "code",
   "execution_count": null,
   "metadata": {},
   "outputs": [],
   "source": []
  },
  {
   "cell_type": "markdown",
   "metadata": {},
   "source": [
    "### 2. Write a Pandas program to calculate all the sighting days of the unidentified flying object (ufo) from current date."
   ]
  },
  {
   "cell_type": "code",
   "execution_count": null,
   "metadata": {},
   "outputs": [],
   "source": []
  },
  {
   "cell_type": "markdown",
   "metadata": {},
   "source": []
  },
  {
   "cell_type": "code",
   "execution_count": null,
   "metadata": {},
   "outputs": [],
   "source": []
  },
  {
   "cell_type": "markdown",
   "metadata": {},
   "source": []
  },
  {
   "cell_type": "code",
   "execution_count": null,
   "metadata": {},
   "outputs": [],
   "source": []
  },
  {
   "cell_type": "code",
   "execution_count": null,
   "metadata": {},
   "outputs": [],
   "source": []
  },
  {
   "cell_type": "markdown",
   "metadata": {},
   "source": [
    "Data Sources: ufo_sighting_data.csv - [80,332 records] <br>\n",
    "Exercises data sources: ufo.csv - [347 random records from ufo_sighting_data.csv] <br>\n",
    "\n",
    "Note there are no missing data in the columns (ufo.csv).\n",
    "\n",
    "Source:\n",
    "- https://github.com/planetsig/ufo-reports \n",
    "- https://www.kaggle.com/camnugent/ufo-sightings-around-the-world"
   ]
  },
  {
   "cell_type": "markdown",
   "metadata": {},
   "source": [
    "#### Reference: [https://www.w3resource.com/python-exercises/pandas/datetime/index.php](https://www.w3resource.com/python-exercises/pandas/datetime/index.php)"
   ]
  }
 ],
 "metadata": {
  "kernelspec": {
   "display_name": "Python 3",
   "language": "python",
   "name": "python3"
  },
  "language_info": {
   "codemirror_mode": {
    "name": "ipython",
    "version": 3
   },
   "file_extension": ".py",
   "mimetype": "text/x-python",
   "name": "python",
   "nbconvert_exporter": "python",
   "pygments_lexer": "ipython3",
   "version": "3.7.3"
  }
 },
 "nbformat": 4,
 "nbformat_minor": 2
}

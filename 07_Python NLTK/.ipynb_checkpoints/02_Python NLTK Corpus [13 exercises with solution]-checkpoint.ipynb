{
 "cells": [
  {
   "cell_type": "markdown",
   "metadata": {},
   "source": [
    "# <center>Python NLTK Corpus [13 exercises with solution]</center>"
   ]
  },
  {
   "cell_type": "markdown",
   "metadata": {},
   "source": [
    "## NLTK Corpus:\n",
    "\n",
    "- In linguistics, a corpus (plural corpora) or text corpus is a large and structured set of texts. \n",
    "- In corpus linguistics, they are used to do statistical analysis and hypothesis testing, checking occurrences or validating linguistic rules within a specific language territory.\n",
    "\n",
    "- Each corpus reader class is specialized to handle a specific corpus format. In addition, the `nltk.corpus` package automatically creates a set of corpus reader instances that can be used to access the corpora in the NLTK data package."
   ]
  },
  {
   "cell_type": "markdown",
   "metadata": {},
   "source": [
    "### 1. Write a Python NLTK program to list down all the corpus names."
   ]
  },
  {
   "cell_type": "code",
   "execution_count": 5,
   "metadata": {},
   "outputs": [
    {
     "data": {
      "text/plain": [
       "['_LazyModule__lazymodule_globals',\n",
       " '_LazyModule__lazymodule_import',\n",
       " '_LazyModule__lazymodule_init',\n",
       " '_LazyModule__lazymodule_loaded',\n",
       " '_LazyModule__lazymodule_locals',\n",
       " '_LazyModule__lazymodule_name',\n",
       " '__class__',\n",
       " '__delattr__',\n",
       " '__dict__',\n",
       " '__dir__',\n",
       " '__doc__',\n",
       " '__eq__',\n",
       " '__format__',\n",
       " '__ge__',\n",
       " '__getattr__',\n",
       " '__getattribute__',\n",
       " '__gt__',\n",
       " '__hash__',\n",
       " '__init__',\n",
       " '__init_subclass__',\n",
       " '__le__',\n",
       " '__lt__',\n",
       " '__module__',\n",
       " '__name__',\n",
       " '__ne__',\n",
       " '__new__',\n",
       " '__reduce__',\n",
       " '__reduce_ex__',\n",
       " '__repr__',\n",
       " '__setattr__',\n",
       " '__sizeof__',\n",
       " '__str__',\n",
       " '__subclasshook__',\n",
       " '__weakref__']"
      ]
     },
     "execution_count": 5,
     "metadata": {},
     "output_type": "execute_result"
    }
   ],
   "source": [
    "import nltk.corpus\n",
    "\n",
    "dir(nltk.corpus)"
   ]
  },
  {
   "cell_type": "markdown",
   "metadata": {},
   "source": [
    "### 2. Write a Python NLTK program to get a list of common stop words in various languages in Python."
   ]
  },
  {
   "cell_type": "code",
   "execution_count": 9,
   "metadata": {},
   "outputs": [
    {
     "name": "stdout",
     "output_type": "stream",
     "text": [
      "['arabic', 'azerbaijani', 'danish', 'dutch', 'english', 'finnish', 'french', 'german', 'greek', 'hungarian', 'indonesian', 'italian', 'kazakh', 'nepali', 'norwegian', 'portuguese', 'romanian', 'russian', 'slovene', 'spanish', 'swedish', 'tajik', 'turkish']\n"
     ]
    }
   ],
   "source": [
    "from nltk.corpus import stopwords\n",
    "\n",
    "print(stopwords.fileids())"
   ]
  },
  {
   "cell_type": "markdown",
   "metadata": {},
   "source": [
    "### 3. Write a Python NLTK program to check the list of stopwords in various languages.\n",
    "\n",
    "**From Wikipedia**:\n",
    "- In computing, stop words are words which are filtered out before or after processing of natural language data (text). - - - Though \"stop words\" usually refers to the most common words in a language, there is no single universal list of stop words used by all natural language processing tools, and indeed not all tools even use such a list. \n",
    "- Some tools specifically avoid removing these stop words to support phrase search.\n",
    "\n",
    "- Any group of words can be chosen as the stop words for a given purpose. \n",
    "- For some search engines, these are some of the most common, short function words, such as the, is, at, which, and on. \n",
    "- In this case, stop words can cause problems when searching for phrases that include them, particularly in names such as \"The Who\", \"The The\", or \"Take That\". \n",
    "- Other search engines remove some of the most common words-including lexical words, such as \"want\"-from a query in order to improve performance."
   ]
  },
  {
   "cell_type": "code",
   "execution_count": 5,
   "metadata": {},
   "outputs": [
    {
     "name": "stdout",
     "output_type": "stream",
     "text": [
      "\n",
      "List of stopwords in English:\n",
      "{'so', \"doesn't\", 'most', 'than', 'is', 'on', 'haven', 'yours', 'herself', 'hers', \"aren't\", 'she', 'an', 'each', 're', 'being', 'during', 'has', 'd', \"couldn't\", 'from', 'its', 'his', \"wouldn't\", 'isn', 'their', \"that'll\", 'been', 'but', 'do', 'at', 'against', 'wouldn', 'because', 'these', 'shan', 'same', 'ain', \"haven't\", 'm', \"shan't\", 'or', 'to', 'does', \"you've\", 'then', 'why', 'wasn', 'had', 'and', 'didn', 'shouldn', 'be', 'there', \"hadn't\", \"mustn't\", 'y', 'now', 'until', 'the', 'our', 'too', 'we', 'any', 'how', 'some', 'here', 'a', 'those', 'that', 'while', 'before', 'can', \"weren't\", \"she's\", 'once', 'aren', \"shouldn't\", \"should've\", 'as', 'are', 'no', 'needn', 'i', 'up', 'by', 'did', \"you'd\", 'all', 'where', 've', 'my', 'ma', 'them', 's', 'out', 'theirs', 'mightn', 'don', 'doesn', 'whom', 'yourself', \"hasn't\", 'just', 'myself', 'will', 'o', 'doing', 'again', 'having', 'only', 'with', 'should', 'won', 'me', 'were', 'himself', 'hasn', 'couldn', 'above', 'of', 'nor', 'weren', 'after', \"you're\", 'itself', 'her', 'under', 'own', 't', 'him', 'in', \"won't\", 'he', 'below', 'over', \"don't\", \"you'll\", 'which', \"it's\", 'have', 'if', 'through', 'other', 'll', \"isn't\", 'for', 'mustn', \"wasn't\", 'was', 'not', 'what', 'your', 'they', 'yourselves', 'themselves', 'am', 'more', 'who', 'about', 'further', \"needn't\", 'ours', 'very', 'this', 'into', 'when', \"mightn't\", 'ourselves', 'hadn', 'it', 'off', 'down', 'between', 'such', 'you', 'few', 'both', \"didn't\"}\n",
      "\n",
      "List of stopwords in Arabic:\n",
      "{'أكثر', 'فيها', 'لهما', 'حين', 'لكم', 'عما', 'منه', 'لم', 'أما', 'إذا', 'أنتن', 'اللذان', 'تلكما', 'ذلكم', 'إلا', 'عن', 'ليس', 'إذ', 'بكما', 'أنتما', 'اللتان', 'إما', 'اللاتي', 'لن', 'وإذا', 'حتى', 'هن', 'نعم', 'كيت', 'ذو', 'أيها', 'به', 'له', 'هاتي', 'هنالك', 'كلا', 'بكم', 'بك', 'ومن', 'كليكما', 'ولو', 'لعل', 'إذما', 'مذ', 'بما', 'ذينك', 'فيما', 'هذي', 'إن', 'هكذا', 'حيثما', 'أنت', 'ذاك', 'كل', 'مع', 'كليهما', 'ليت', 'بكن', 'فمن', 'أنا', 'إليكم', 'حاشا', 'سوى', 'هذان', 'اللتين', 'أين', 'خلا', 'بهم', 'هو', 'وإن', 'ليسا', 'آه', 'منذ', 'فلا', 'الذي', 'لكنما', 'لستم', 'هاته', 'كأن', 'كيفما', 'إيه', 'ذلكن', 'مه', 'لدى', 'تينك', 'كلما', 'لوما', 'ممن', 'بهن', 'هيهات', 'والذي', 'هناك', 'فيه', 'هذين', 'ذواتي', 'لسنا', 'هاهنا', 'كما', 'ذلك', 'آي', 'لا', 'شتان', 'تين', 'كأنما', 'يا', 'كم', 'هيا', 'أولئك', 'من', 'ذي', 'ذين', 'لكيلا', 'لي', 'متى', 'هي', 'منها', 'آها', 'بهما', 'لاسيما', 'لستما', 'غير', 'سوف', 'حبذا', 'في', 'نحو', 'ألا', 'أن', 'ريث', 'كذلك', 'فإن', 'ثمة', 'ذه', 'هاتين', 'هم', 'أينما', 'عليك', 'اللائي', 'التي', 'هما', 'بيد', 'عدا', 'ليستا', 'دون', 'بماذا', 'ذوا', 'ولكن', 'وهو', 'إنه', 'بنا', 'ليست', 'نحن', 'إنا', 'تلك', 'اللتيا', 'عل', 'كلتا', 'بي', 'هاك', 'لها', 'ذلكما', 'هيت', 'هنا', 'كلاهما', 'لسن', 'الذين', 'لهن', 'لولا', 'هاتان', 'إلى', 'لك', 'لئن', 'أم', 'إليكما', 'اللواتي', 'ذان', 'لستن', 'لهم', 'كذا', 'ما', 'أف', 'مما', 'هذا', 'إي', 'أقل', 'لو', 'بها', 'وإذ', 'ته', 'أوه', 'ها', 'أنتم', 'عسى', 'إليكن', 'تلكم', 'بين', 'أولاء', 'لكن', 'لست', 'قد', 'مهما', 'ثم', 'ليسوا', 'بس', 'بلى', 'إليك', 'لنا', 'بخ', 'هذه', 'ذا', 'على', 'إنما', 'فيم', 'كي', 'لكما', 'هلا', 'هل', 'بمن', 'كيف', 'عليه', 'فإذا', 'ذات', 'والذين', 'عند', 'أنى', 'لما', 'كأي', 'ماذا', 'إذن', 'حيث', 'ذانك', 'هؤلاء', 'بل', 'كأين', 'ولا', 'أي', 'ذواتا', 'أو', 'بعض', 'تي', 'وما', 'لكي', 'اللذين', 'بعد'}\n",
      "\n",
      "List of stopwords in Azerbaijani:\n",
      "{'belə', 'əgər', 'yetmiş', 'oradan', 'çünki', 'idi', 'cu', 'qarşı', 'bundan', 'mirşey', 'xanım', 'kimi', 'buradan', 'on', 'hər', 'səhv', 'ilk', 'olduğu', 'ü', 'olmuşdur', 'onu', 'mən', 'bizim', 'birşey', 'ı', 'ən', 'sənin', 'təəssüf', 'əlbəttə', 'səksən', 'biz', 'altı', 'bilər', 'bəlkə', 'səkkiz', 'olmaz', 'də', 'istifadə', 'edir', 'ondan', 'da', 'dək', 'üç', 'yəni', 'az', 'bax', 'mənə', 'daha', 'iki', 'beş', 'üçün', 'hə', 'zaman', 'ha', 'doqsan', 'etmək', 'bir', 'bütün', 'etdi', 'doqquz', 'iyirmi', 'sonra', 'buna', 'olsun', 'bunu', 'heç', 'onlardan', 'bəy', 'et', 'haqqında', 'gilə', 'olmadı', 'a', 'etmə', 'ilə', 'amma', 'yüz', 'onların ', 'sən', 'xeyr', 'kimə', 'ay', 'lap', 'saat', 'lakin', 'yoxdur', 'bəzən', 'və', 'olaraq', 'həmin', 'deyil', 'obirisi', 'kim', 'yaxşı', 'niyə', 'isə', 'artıq', 'onsuzda', 'il', 'faiz', 'ona', 'otuz', 'altmış', 'bizlər', 'nəhayət', 'arasında', 'dörd', 'ci', 'qədər', 'dedi', 'o', 'olar', 'sizlər', 'edən', 'öz', 'özü', 'yenə', 'biraz', 'sadəcə', 'sizin', 'xan', 'sənə', 'həmişə', 'saniyə', 'elə', 'biri', 'görə', 'of', 'yox', 'ildə', 'çox', 'bu', 'yalnız', 'indi', 'dən', 'in', 'onlar', 'olur', 'ki', 'olan', 'ə', 'bəli', 'siz', 'bəzi', 'ad', 'qırx', 'əslində', 'nə', 'cü', 'məhz', 'həm', 'oldu', 'bunun', 'var', 'bunların', 'cı', 'düz', 'onun', 'dir', 'ya', 'dəqiqə', 'əlli', 'harada', 'yoxsa', 'yeddi'}\n",
      "\n",
      "List of stopwords in Danish:\n",
      "{'thi', 'sin', 'mig', 'hans', 'hvis', 'kunne', 'jeg', 'deres', 'jer', 'som', 'sine', 'dem', 'der', 'mit', 'efter', 'ned', 'at', 'du', 'eller', 'med', 'dog', 'da', 'en', 'alt', 'dig', 'er', 'den', 'været', 'op', 'et', 'anden', 'mine', 'blive', 'i', 'sit', 'men', 'bliver', 'det', 'meget', 'om', 'end', 'disse', 'blev', 'hos', 'din', 'de', 'havde', 'hvor', 'vil', 'han', 'jo', 'fra', 'og', 'hun', 'til', 'nogle', 'nu', 'af', 'være', 'min', 'under', 'her', 'denne', 'alle', 'mange', 'har', 'man', 'over', 'mod', 'have', 'ikke', 'når', 'for', 'hende', 'ad', 'selv', 'sig', 'noget', 'også', 'ud', 'skulle', 'var', 'os', 'vor', 'sådan', 'hvad', 'på', 'ind', 'ville', 'ham', 'dette', 'hendes', 'vi', 'skal'}\n",
      "\n",
      "List of stopwords in Dutch:\n",
      "{'wezen', 'van', 'niet', 'mijn', 'mij', 'is', 'wordt', 'kan', 'moet', 'aan', 'zonder', 'zijn', 'heb', 'ze', 'iemand', 'doen', 'deze', 'zo', 'voor', 'het', 'der', 'werd', 'worden', 'dus', 'zal', 'dat', 'hier', 'daar', 'heeft', 'en', 'er', 'zij', 'had', 'reeds', 'door', 'veel', 'toen', 'zich', 'kunnen', 'op', 'uw', 'wat', 'altijd', 'want', 'uit', 'wil', 'onder', 'tegen', 'iets', 'wie', 'andere', 'tot', 'een', 'waren', 'dit', 'al', 'men', 'meer', 'eens', 'om', 'zou', 'hoe', 'te', 'bij', 'de', 'nog', 'met', 'alles', 'dan', 'toch', 'hun', 'hebben', 'me', 'niets', 'na', 'nu', 'geen', 'haar', 'of', 'ons', 'naar', 'in', 'doch', 'over', 'hij', 'u', 'zelf', 'die', 'was', 'je', 'ge', 'ben', 'omdat', 'als', 'ik', 'maar', 'ja', 'geweest', 'hem', 'kon', 'ook'}\n",
      "\n",
      "List of stopwords in Finnish:\n",
      "{'minua', 'noilta', 'näistä', 'kenet', 'sinut', 'meiltä', 'minussa', 'on', 'meitä', 'olisivat', 'hän', 'sen', 'joksi', 'se', 'vaan', 'hänet', 'heidät', 'tuolta', 'olisimme', 'hänelle', 'niiksi', 'näitä', 'niillä', 'jona', 'joilta', 'kun', 'itse', 'eivät', 'noista', 'vaikka', 'joita', 'minä', 'jotka', 'tuona', 'keiltä', 'heille', 'millä', 'olla', 'tuohon', 'nyt', 'niihin', 'kenelle', 'keneksi', 'joille', 'meistä', 'olit', 'kenestä', 'meissä', 'meihin', 'että', 'tältä', 'joina', 'koska', 'olen', 'niistä', 'kanssa', 'tuossa', 'olet', 'tallä', 'olisi', 'näiksi', 'noissa', 'jolta', 'näillä', 'tuon', 'keinä', 'näissä', 'en', 'keihin', 'hänessä', 'niin', 'sinulla', 'olivat', 'häntä', 'ole', 'noilla', 'jonka', 'hänellä', 'teille', 'jolle', 'tai', 'sinusta', 'meidän', 'kuin', 'tähän', 'et', 'jossa', 'niissä', 'josta', 'tuolle', 'hänen', 'joiksi', 'tässä', 'keneltä', 'teistä', 'ovat', 'siksi', 'niiden', 'tuosta', 'ketä', 'keneen', 'keistä', 'olette', 'sinulta', 'tuolla', 'sinä', 'noihin', 'minulla', 'ketkä', 'miksi', 'joiden', 'tälle', 'meidät', 'mutta', 'oli', 'sinun', 'tuotä', 'keiden', 'jolla', 'nämä', 'tätä', 'tästä', 'tuoksi', 'jos', 'siltä', 'noina', 'miltä', 'kenellä', 'siitä', 'keitä', 'te', 'keille', 'siinä', 'niiltä', 'heillä', 'näiltä', 'näiden', 'heidän', 'olisin', 'heihin', 'kuka', 'minulta', 'heiltä', 'kenessä', 'yli', 'ei', 'sille', 'ette', 'näinä', 'sitä', 'teissä', 'mukaan', 'teihin', 'olimme', 'sinussa', 'me', 'olisitte', 'näihin', 'niinä', 'poikki', 'näille', 'noita', 'mitkä', 'olleet', 'olin', 'joihin', 'olemme', 'häneltä', 'sinuun', 'ne', 'joilla', 'heissä', 'teitä', 'joista', 'emme', 'keissä', 'niitä', 'meillä', 'meille', 'he', 'olisit', 'heitä', 'johon', 'kenenä', 'mille', 'noin', 'noille', 'nuo', 'tämä', 'heistä', 'tänä', 'mitä', 'sinulle', 'sekä', 'olitte', 'kenen', 'noiden', 'täksi', 'vai', 'siihen', 'ollut', 'noiksi', 'niille', 'sillä', 'minkä', 'joka', 'teidät', 'minusta', 'häneen', 'joissa', 'teiltä', 'minulle', 'keillä', 'keiksi', 'mikä', 'jota', 'tämän', 'ja', 'teillä', 'minut', 'mistä', 'sinua', 'mihin', 'hänestä', 'tuo', 'minun', 'teidän', 'minuun', 'missä'}\n",
      "\n",
      "List of stopwords in French:\n",
      "{'des', 'aies', 'eus', 'êtes', 'c', 'on', 'serait', 'avions', 'qui', 'soient', 'mon', 'ta', 'se', 'au', 'furent', 'étais', 'eûtes', 'que', 'une', 'qu', 'ait', 'sera', 'soit', 'd', 'n', 'aurai', 'sont', 'seraient', 'ou', 'serai', 'aurez', 'du', 'm', 'ils', 'même', 'ont', 'eût', 'fussions', 'étiez', 'auriez', 'été', 'les', 'ayons', 'eurent', 'eussions', 'est', 'en', 'la', 'eussiez', 'fût', 'avez', 'pour', 'étée', 'fusse', 'avaient', 'aie', 'y', 'sommes', 'eu', 'aurait', 'un', 'auront', 'avec', 'et', 'ses', 'aient', 'eux', 'étant', 'tes', 'votre', 'serions', 'es', 'as', 'lui', 'aviez', 'aurais', 'eut', 'ayez', 'ce', 'eussent', 'moi', 'notre', 'dans', 'fûmes', 'étante', 'à', 'fûtes', 'fusses', 'ma', 's', 'te', 'il', 'sa', 'toi', 'nous', 'mes', 'fussiez', 'soyons', 'par', 'soyez', 'j', 'était', 'de', 'ayantes', 'eues', 'vos', 'fussent', 'tu', 'eusses', 'étions', 'étaient', 'avais', 'serons', 'auras', 'le', 'pas', 'aurions', 'eûmes', 'me', 'sur', 'étées', 'seront', 'ai', 'ne', 'serez', 'ces', 'auraient', 'avons', 'seras', 't', 'son', 'fut', 'l', 'sois', 'fus', 'je', 'avait', 'mais', 'vous', 'aura', 'aux', 'étés', 'eue', 'étants', 'eusse', 'ayants', 'aurons', 'serais', 'seriez', 'nos', 'ayant', 'ton', 'leur', 'ayante', 'étantes', 'elle', 'suis'}\n",
      "\n",
      "List of stopwords in German:\n",
      "{'des', 'einen', 'diesem', 'viel', 'seinem', 'kann', 'so', 'keine', 'von', 'einiges', 'einige', 'mir', 'einer', 'eurem', 'derselbe', 'sind', 'vom', 'welchem', 'warst', 'euer', 'andern', 'jetzt', 'für', 'an', 'deines', 'jenem', 'ich', 'manche', 'unsere', 'hinter', 'welchen', 'bis', 'dem', 'soll', 'der', 'diese', 'aller', 'sich', 'meinen', 'allem', 'bist', 'dort', 'mit', 'seiner', 'würde', 'meiner', 'oder', 'ihm', 'manches', 'zur', 'dieser', 'anderr', 'wirst', 'kein', 'du', 'anderes', 'zu', 'hat', 'ins', 'muss', 'weil', 'werden', 'dessen', 'einiger', 'dies', 'unter', 'nicht', 'unseres', 'da', 'seines', 'meines', 'euren', 'können', 'zum', 'hier', 'daß', 'hin', 'ihren', 'wird', 'ihr', 'etwas', 'hab', 'sondern', 'nun', 'einmal', 'gegen', 'er', 'machen', 'und', 'über', 'dein', 'bei', 'den', 'anderen', 'dieselben', 'jede', 'jener', 'desselben', 'aus', 'ein', 'nach', 'zwischen', 'jedes', 'einigem', 'keinem', 'ihn', 'sonst', 'anders', 'jenes', 'sein', 'ihrem', 'um', 'es', 'auch', 'ihre', 'damit', 'nur', 'sehr', 'andere', 'wie', 'zwar', 'eines', 'waren', 'solchen', 'keinen', 'jeden', 'wenn', 'während', 'derer', 'sie', 'wieder', 'dass', 'solches', 'habe', 'unserem', 'welcher', 'dazu', 'dasselbe', 'wir', 'haben', 'ihrer', 'wollen', 'alles', 'will', 'meine', 'sollte', 'dieselbe', 'das', 'meinem', 'mein', 'wollte', 'gewesen', 'unser', 'durch', 'aber', 'dieses', 'ihres', 'euch', 'diesen', 'einig', 'noch', 'uns', 'deinem', 'dich', 'jene', 'manchen', 'also', 'musste', 'deine', 'alle', 'war', 'in', 'hatten', 'man', 'doch', 'weg', 'anderm', 'unseren', 'im', 'keiner', 'keines', 'denselben', 'auf', 'die', 'mich', 'eure', 'eurer', 'was', 'eures', 'jenen', 'solcher', 'welches', 'einem', 'solche', 'nichts', 'am', 'ob', 'seinen', 'weiter', 'würden', 'manchem', 'eine', 'indem', 'solchem', 'jedem', 'derselben', 'bin', 'als', 'selbst', 'welche', 'werde', 'anderem', 'vor', 'hatte', 'denn', 'dann', 'seine', 'demselben', 'deinen', 'dir', 'allen', 'ist', 'deiner', 'mancher', 'ohne', 'ihnen', 'jeder', 'ander', 'wo', 'könnte', 'anderer', 'einigen'}\n",
      "\n",
      "List of stopwords in Greek:\n",
      "{'ενω', 'που', 'οὓς', 'ἐν', 'στον', 'τισ', 'τινα', 'ἄλλοσ', 'ἡ', 'ἥ', 'εκεινουσ', 'τησ', 'ἀπ', 'μετά', 'τίς', 'απο', 'σὺ', 'οἷς', 'ἄρα', 'ἑαυτοῦ', 'ὡς', 'πρόσ', 'τα', 'επ', 'την', 'τοιοῦτοσ', 'για', 'παρα', 'ὃ', 'ποια', 'οπωσ', 'αἱ', 'ἐὰν', 'εἰς', 'τον', 'μεθ', 'τε', 'ειστε', 'ὥστε', 'οὐχ', 'εκεινεσ', 'περὶ', 'δαὶ', 'εκεινοσ', 'ἀλλ’', 'ομωσ', 'τῷ', 'ἀλλά', 'ὑπέρ', 'σὸς', 'αὐτόσ', 'σόσ', 'δαίσ', 'ποτε', 'ἀπό', 'ἐάν', 'ἐγὼ', 'ἐπεὶ', 'ἐφ', 'μετα', 'ἧς', 'οὐκ', 'οὕτως', 'δαὶς', 'ταῖς', 'δέ', 'οὐδ', 'οὐ', 'οὐδείσ', 'τὸν', 'αυτα', \"δι'\", 'τι', 'ἀλλὰ', 'ἔτι', 'ὦ', 'αυτοσ', 'οὗ', 'καί', 'αλλα', 'αὐτὸς', 'ἐκ', 'οὐχὶ', 'μετ', 'οτι', 'καὶ', 'δὴ', 'τήν', 'αυτοι', 'ποιων', 'εκεινα', 'ἃ', 'αυτων', 'ὃν', 'αυτεσ', 'μέν', 'τί', 'ὅθεν', \"ἀλλ'\", 'μετὰ', 'δεν', 'πως', 'δή', 'τοῖς', 'ὅστις', 'οὕτω', 'εκεινων', 'κατὰ', 'ποιοσ', 'τοί', 'ἄλλος', 'μή', 'μήτε', 'ποιεσ', 'τοὺς', 'τῆσ', 'περί', 'πωσ', 'ὁ', 'τὴν', 'ὅς', 'η', 'του', 'πρὸς', 'ισωσ', 'ὅδε', 'τὰς', 'γὰρ', 'κατα', 'καίτοι', 'στην', 'οὐδεὶς', 'ο', 'οσο', 'δ’', 'οι', 'εκεινο', 'αντι', 'τὰ', 'τῆς', 'αυτο', 'καθ', 'ωσ', 'ἵνα', 'κἂν', 'κ', 'μἐν', 'και', 'εἴμι', 'προ', 'εκεινη', 'ἐμόσ', 'ποιοι', 'αἵ', 'μα', 'οὕτωσ', 'οἱ', 'παρά', 'στο', 'τῇ', 'ὅστισ', 'σύν', 'επι', 'ὃς', 'τοι', 'γα', 'ἀφ', 'στη', 'κι', 'ἅμα', 'θα', 'εἴ', 'ἀπὸ', 'το', 'οἳ', 'τοτε', \"δ'\", 'αὖ', 'εἰ', 'με', 'παρ', 'παρὰ', 'αἳ', 'εἰμὶ', 'ὅτι', 'προσ', 'τοιοῦτος', 'τούσ', 'σύ', 'οὗτοσ', 'δαί', 'μὴ', 'εἴτε', 'κατ', 'μὴν', 'οὔτε', 'ὡσ', 'τά', 'ὑπὸ', 'ποιουσ', 'δὲ', 'εαν', 'μὲν', 'ὅσ', 'ὑπό', 'οὐδέ', 'οὐδὲν', 'κἀν', 'τόν', 'ᾧ', 'εκεινοι', 'ειμαστε', 'ἂν', 'σε', 'ειμαι', 'ὥς', 'αυτη', 'μην', 'ὅπερ', 'ἢ', 'ὑπὲρ', 'γε', 'οὐδὲ', 'αν', 'ὅτε', 'τὸ', 'τό', 'τῶν', 'ἐπὶ', 'να', 'γάρ', 'διὰ', 'ἤ', 'τις', 'ἄν', 'ειναι', 'ποῦ', 'ποιο', 'οὗτος', 'εἰμί', 'διά', 'αυτουσ', 'ἐξ', 'ἐπί', 'ὅ', 'ὑπ', 'εισαι', 'ὑμόσ', 'ἐγώ', 'τίσ', 'οὖν', 'ἣ', 'τοῦ', 'εἰσ', 'σὺν', 'δε', 'ἐστι', 'τότε', 'ἐμὸς', 'γα^', 'κατά', 'των', 'πρὸ', 'μη', 'γοῦν'}\n",
      "\n",
      "List of stopwords in Hungarian:\n",
      "{'volna', 'egyes', 'van', 'úgy', 'jobban', 'össze', 'való', 'most', 'voltam', 'számára', 'keressünk', 'után', 'ilyen', 'én', 'kívül', 'lehet', 'igen', 'aztán', 'keresztül', 'újabb', 'elég', 'maga', 'mint', 'tovább', 'illetve', 'ilyenkor', 'legalább', 'mindent', 'amelyeket', 'sokkal', 'bár', 'ahol', 'sokat', 'e', 'egyetlen', 'mit', 'alatt', 'nem', 'nagy', 'amelyek', 'sem', 'ahogy', 'azt', 'neki', 'általában', 'milyen', 'másik', 'új', 'vagyis', 'jó', 'ellen', 'ami', 'az', 'lehetett', 'persze', 'elsõ', 'hogy', 'mi', 'egy', 'azért', 'õk', 'így', 'ez', 'ezt', 'be', 'õ', 'miért', 'továbbá', 'kellett', 'amely', 'lett', 'vagy', 'ebben', 'ezek', 'ennek', 'magát', 'pedig', 'nagyobb', 'néhány', 'a', 'és', 'át', 'nélkül', 'elõször', 'nagyon', 'õket', 'abban', 'amolyan', 'egyre', 'kell', 'ismét', 'éppen', 'legyen', 'más', 'vissza', 'semmi', 'utána', 'már', 'ezzel', 'vagyok', 'erre', 'ugyanis', 'míg', 'ill.', 'ahhoz', 'amikor', 'arra', 's', 'emilyen', 'hanem', 'teljes', 'utolsó', 'annak', 'aki', 'valamint', 'valami', 'lesz', 'ezen', 'nekem', 'amit', 'egyik', 'de', 'tehát', 'szemben', 'közül', 'mivel', 'voltunk', 'vannak', 'elõ', 'egyéb', 'benne', 'között', 'talán', 'újra', 'amelyekben', 'olyan', 'szinte', 'rá', 'ott', 'ill', 'minden', 'akik', 'mindenki', 'arról', 'amíg', 'ne', 'elõtt', 'melyek', 'amelyet', 'amelynek', 'hiszen', 'ki', 'azonban', 'saját', 'ison', 'mert', 'viszont', 'itt', 'belül', 'még', 'egész', 'el', 'akkor', 'cikkek', 'azzal', 'szerint', 'jól', 'ezért', 'mellett', 'ehhez', 'néha', 'azok', 'azután', 'cikk', 'cikkeket', 'fel', 'felé', 'valaki', 'lenni', 'meg', 'mikor', 'volt', 'ekkor', 'sok', 'vele', 'csak', 'mindig', 'által', 'voltak', 'hogyan', 'több', 'lenne', 'mintha', 'eddig', 'azon', 'majd', 'nincs', 'mely'}\n",
      "\n",
      "List of stopwords in Indonesian:\n",
      "{'memungkinkan', 'pasti', 'atau', 'ikut', 'itu', 'ditanya', 'biasa', 'awal', 'ditunjuknya', 'inikah', 'dengan', 'minta', 'mulai', 'akulah', 'setinggi', 'ditunjuk', 'masalah', 'menyebutkan', 'melihat', 'sesudah', 'benar', 'besar', 'setiap', 'lewat', 'diketahuinya', 'entahlah', 'selaku', 'seusai', 'merekalah', 'sesekali', 'andalah', 'kelihatannya', 'pula', 'apaan', 'memisalkan', 'seorang', 'tutur', 'bekerja', 'digunakan', 'sekurang-kurangnya', 'sambil', 'hanya', 'berakhir', 'tapi', 'ucapnya', 'sangat', 'jangankan', 'selamanya', 'mulanya', 'kiranya', 'keterlaluan', 'dijawab', 'perlukah', 'usah', 'sebab', 'sebutnya', 'hanyalah', 'sebaiknya', 'baru', 'banyak', 'mengapa', 'janganlah', 'adapun', 'semasih', 'terbanyak', 'jumlahnya', 'memberi', 'tegasnya', 'mengetahui', 'sedangkan', 'mengibaratkan', 'jadinya', 'tiba-tiba', 'waktu', 'dilalui', 'depan', 'diantara', 'karenanya', 'kepada', 'seketika', 'didatangkan', 'dua', 'diungkapkan', 'sekitarnya', 'tahun', 'agaknya', 'rasa', 'yakin', 'menurut', 'pastilah', 'terjadi', 'memihak', 'berapalah', 'saat', 'berapapun', 'tunjuk', 'menyampaikan', 'bisakah', 'asalkan', 'terlebih', 'pertama', 'terlihat', 'ditambahkan', 'bagian', 'seharusnya', 'percuma', 'terjadinya', 'sebuah', 'setidaknya', 'melihatnya', 'jika', 'ditujukan', 'akankah', 'hendaknya', 'antara', 'dan', 'waduh', 'berapakah', 'keduanya', 'sesampai', 'dimaksudnya', 'kini', 'mengungkapkan', 'sering', 'mampu', 'caranya', 'paling', 'dituturkan', 'pun', 'bagaimanakah', 'lah', 'dipunyai', 'begini', 'oleh', 'dipergunakan', 'mengenai', 'sebut', 'keseluruhan', 'segalanya', 'sebetulnya', 'yaitu', 'sesuatu', 'saatnya', 'bermaksud', 'ataupun', 'itulah', 'persoalan', 'sudahlah', 'walaupun', 'apa', 'dia', 'ibu', 'memperlihatkan', 'selama-lamanya', 'menegaskan', 'menjawab', 'tersebutlah', 'secara', 'didapat', 'boleh', 'berupa', 'satu', 'diucapkan', 'diperkirakan', 'dituturkannya', 'manakala', 'seenaknya', 'semisal', 'bilakah', 'mendapat', 'diberikan', 'turut', 'macam', 'diucapkannya', 'mau', 'hampir', 'berikut', 'belum', 'berdatangan', 'adanya', 'sementara', 'merasa', 'juga', 'sinilah', 'berikutnya', 'sebagian', 'tersampaikan', 'bagi', 'berakhirnya', 'enggak', 'sebesar', 'bukanlah', 'terus', 'begitu', 'nantinya', 'dipersoalkan', 'bagaikan', 'ialah', 'terakhir', 'cukupkah', 'yang', 'artinya', 'sampaikan', 'seluruhnya', 'biasanya', 'sayalah', 'ujar', 'diakhirinya', 'akhir', 'bertutur', 'ini', 'hendak', 'semasa', 'setengah', 'berlebihan', 'empat', 'kalian', 'tak', 'lima', 'cara', 'diperlukan', 'teringat-ingat', 'tempat', 'dahulu', 'begitupun', 'mengingatkan', 'seterusnya', 'menambahkan', 'keluar', 'menunjuk', 'bakal', 'waktunya', 'sebagainya', 'seperlunya', 'memberikan', 'siap', 'seolah', 'ibarat', 'kecil', 'berturut', 'jelaslah', 'para', 'bagaimanapun', 'inilah', 'diri', 'ujarnya', 'tidak', 'jelaskan', 'sedemikian', 'cukup', 'tahu', 'menunjukkan', 'bukankah', 'semula', 'diketahui', 'toh', 'sekali-kali', 'sebaik-baiknya', 'lamanya', 'yakni', 'umum', 'apakah', 'harus', 'melakukan', 'soalnya', 'lalu', 'berarti', 'sini', 'sebegini', 'jadilah', 'ditegaskan', 'tetap', 'karena', 'sampai-sampai', 'dimaksudkannya', 'pertanyaan', 'berkali-kali', 'mengerjakan', 'dong', 'ibaratnya', 'mengatakan', 'hari', 'dikarenakan', 'membuat', 'memastikan', 'rasanya', 'masih', 'mempergunakan', 'ataukah', 'perlu', 'bagaimana', 'belumlah', 'sepantasnya', 'tinggi', 'misalkan', 'dulu', 'namun', 'datang', 'bakalan', 'dalam', 'ketika', 'hal', 'ditanyai', 'kira-kira', 'sebelum', 'sepihak', 'soal', 'sampai', 'sewaktu', 'menjadi', 'berlangsung', 'demi', 'masing', 'beberapa', 'disinilah', 'tadi', 'kami', 'antar', 'semua', 'makin', 'berawal', 'dapat', 'saling', 'mula', 'diperlukannya', 'entah', 'ditunjuki', 'benarlah', 'berikan', 'dimulailah', 'dirinya', 'kalaulah', 'berlalu', 'beginilah', 'bisa', 'mengingat', 'sebaik', 'malahan', 'jawab', 'setiba', 'sela', 'dikira', 'berada', 'menginginkan', 'menunjuki', 'setempat', 'diingatkan', 'kala', 'disebutkan', 'tentunya', 'meyakini', 'katakan', 'harusnya', 'umumnya', 'enggaknya', 'akan', 'ditunjukkan', 'kelihatan', 'maka', 'jelasnya', 'menaiki', 'menggunakan', 'selain', 'seseorang', 'ungkap', 'mengira', 'amatlah', 'mengucapkan', 'memang', 'bersiap', 'olehnya', 'kelima', 'jauh', 'katanya', 'pantas', 'serta', 'tanpa', 'mendatangkan', 'masalahnya', 'kalau', 'sesudahnya', 'sebabnya', 'sebisanya', 'tengah', 'semata', 'diinginkan', 'kembali', 'berlainan', 'mungkinkah', 'sedikit', 'dipertanyakan', 'teringat', 'terhadapnya', 'lain', 'setibanya', 'semampu', 'beri', 'disampaikan', 'mempunyai', 'ternyata', 'bertanya', 'dimaksudkan', 'naik', 'sesegera', 'setelah', 'ditandaskan', 'jawabnya', 'mulailah', 'tanyakan', 'kan', 'kinilah', 'secukupnya', 'tidaklah', 'diibaratkan', 'sepantasnyalah', 'usai', 'siapa', 'tentulah', 'seluruh', 'mempersiapkan', 'awalnya', 'seingat', 'termasuk', 'bukannya', 'menyangkut', 'sudah', 'misal', 'meskipun', 'telah', 'menandaskan', 'sekecil', 'akhiri', 'kok', 'jangan', 'merupakan', 'tuturnya', 'supaya', 'bulan', 'tanya', 'sudahkah', 'cukuplah', 'pukul', 'apabila', 'buat', 'sekurangnya', 'mengucapkannya', 'bagai', 'dini', 'kemungkinannya', 'setidak-tidaknya', 'seberapa', 'dari', 'rupanya', 'jawaban', 'saja', 'sesama', 'sebelumnya', 'diperbuatnya', 'menuturkan', 'sekalipun', 'mendatangi', 'sangatlah', 'dijelaskannya', 'tiap', 'untuk', 'asal', 'belakangan', 'kapan', 'kira', 'kapanpun', 'kemungkinan', 'keinginan', 'jelas', 'bapak', 'lagi', 'panjang', 'sedang', 'tandasnya', 'gunakan', 'kamu', 'anda', 'berbagai', 'meyakinkan', 'berkeinginan', 'kapankah', 'padahal', 'tampaknya', 'tadinya', 'lagian', 'sebagai', 'kenapa', 'penting', 'beginian', 'baik', 'dilihat', 'nah', 'terdahulu', 'sekarang', 'diakhiri', 'menanyai', 'kata', 'disebutkannya', 'bukan', 'tidakkah', 'malah', 'wong', 'menyatakan', 'akhirnya', 'bermacam', 'kita', 'tersebut', 'semakin', 'berakhirlah', 'dimulai', 'lainnya', 'per', 'kepadanya', 'masihkah', 'begitulah', 'guna', 'kelamaan', 'dialah', 'semaunya', 'masa', 'disini', 'pak', 'bersama', 'bung', 'makanya', 'mengibaratkannya', 'bersama-sama', 'segera', 'memperkirakan', 'apalagi', 'seringnya', 'nanti', 'hingga', 'selanjutnya', 'lanjutnya', 'sempat', 'mempertanyakan', 'tandas', 'mengakhiri', 'jadi', 'menanti', 'wahai', 'bersiap-siap', 'suatu', 'terhadap', 'bahwa', 'sebagaimana', 'dijelaskan', 'sama', 'maupun', 'pihaknya', 'sekali', 'betulkah', 'mereka', 'melalui', 'dekat', 'mirip', 'benarkah', 'terdapat', 'berapa', 'tampak', 'mendapatkan', 'walau', 'menghendaki', 'sesuatunya', 'sekitar', 'agar', 'terdiri', 'terutama', 'jikalau', 'bermacam-macam', 'dimintai', 'menjelaskan', 'tiba', 'bermula', 'sebaliknya', 'tentu', 'seolah-olah', 'selama', 'menyeluruh', 'punya', 'berturut-turut', 'menantikan', 'berkenaan', 'semuanya', 'kurang', 'tepat', 'ungkapnya', 'menanyakan', 'semampunya', 'tentang', 'sebanyak', 'belakang', 'memerlukan', 'diibaratkannya', 'tegas', 'se', 'tambah', 'semata-mata', 'ke', 'sama-sama', 'amat', 'berkata', 'dimungkinkan', 'kemudian', 'lama', 'sejak', 'berkehendak', 'memintakan', 'semisalnya', 'katakanlah', 'bertanya-tanya', 'mempersoalkan', 'jumlah', 'disebut', 'inginkah', 'sekadar', 'siapapun', 'selalu', 'ditunjukkannya', 'sajalah', 'lebih', 'semacam', 'nyatanya', 'menuju', 'sebegitu', 'kamilah', 'mendatang', 'meski', 'di', 'mampukah', 'aku', 'nyaris', 'tiga', 'sendiri', 'khususnya', 'pihak', 'inginkan', 'diantaranya', 'ia', 'sejenak', 'sepertinya', 'manalagi', 'diperlihatkan', 'pertama-tama', 'pertanyakan', 'bawah', 'menanti-nanti', 'keadaan', 'beginikah', 'kasus', 'segala', 'demikianlah', 'atas', 'ingin', 'padanya', 'menunjuknya', 'ditanyakan', 'melainkan', 'diberi', 'berujar', 'sebenarnya', 'bolehkah', 'sejauh', 'dikatakan', 'sana', 'terasa', 'ada', 'antaranya', 'dilakukan', 'cuma', 'dibuat', 'kebetulan', 'mungkin', 'pentingnya', 'diminta', 'sekaligus', 'serupa', 'dikerjakan', 'dimaksud', 'terjadilah', 'dimisalkan', 'siapakah', 'perlunya', 'diperbuat', 'rata', 'haruslah', 'dikatakannya', 'demikian', 'bila', 'dimulainya', 'berjumlah', 'mana', 'sekadarnya', 'dibuatnya', 'agak', 'saya', 'masing-masing', 'sekiranya', 'sepanjang', 'begitukah', 'seperti', 'itukah', 'tertuju', 'memperbuat', 'daripada', 'apatah', 'lanjut', 'meminta', 'ingat-ingat', 'sejumlah', 'sekalian', 'sendirian', 'memulai', 'balik', 'ingat', 'kitalah', 'sebutlah', 'sedikitnya', 'tertentu', 'diberikannya', 'hendaklah', 'bahkan', 'dipastikan', 'keseluruhannya', 'ibaratkan', 'adalah', 'kamulah', 'kedua', 'bahwasanya', 'luar', 'menyiapkan', 'kesampaian', 'tambahnya', 'terlalu', 'kalaupun', 'diingat', 'pada', 'sesaat', 'bolehlah', 'menanya', 'pernah', 'mengatakannya', 'justru', 'sehingga', 'ucap', 'wah', 'tetapi', 'terkira', 'tanyanya', 'misalnya', 'sendirinya', 'betul'}\n",
      "\n",
      "List of stopwords in Italian:\n",
      "{'dello', 'avessimo', 'sullo', 'anche', 'fossi', 'stiano', 'dagli', 'fummo', 'vostro', 'facemmo', 'starei', 'stiamo', 'c', 'suoi', 'sull', 'saremo', 'nel', 'sul', 'quanto', 'quanta', 'quante', 'ero', 'se', 'aveste', 'voi', 'avessi', 'uno', 'vostre', 'farebbe', 'gli', 'avrebbero', 'tutti', 'siate', 'facevate', 'e', 'questi', 'tue', 'avremmo', 'ebbero', 'quella', 'ho', 'avevate', 'ti', 'queste', 'avesti', 'stemmo', 'avevamo', 'noi', 'degl', 'lo', 'sarebbe', 'nostre', 'ed', 'chi', 'farà', 'avremo', 'farebbero', 'facevo', 'miei', 'vostra', 'da', 'avrà', 'siano', 'sugli', 'facciamo', 'faranno', 'abbiano', 'stavamo', 'sulla', 'avesse', 'mi', 'siamo', 'stava', 'avuta', 'sarò', 'farò', 'stai', 'stavi', 'di', 'la', 'avrei', 'eravate', 'tuoi', 'ha', 'suo', 'avevo', 'sia', 'fareste', 'facevano', 'feci', 'quello', 'starai', 'su', 'agl', 'tua', 'avrebbe', 'sta', 'un', 'avevano', 'staremmo', 'avendo', 'mie', 'a', 'dai', 'dalle', 'stettero', 'avessero', 'degli', 'che', 'staremo', 'abbiamo', 'io', 'del', 'nei', 'sarei', 'sarebbero', 'eravamo', 'avuto', 'sarai', 'fosse', 'lui', 'fanno', 'staresti', 'mio', 'i', 'cui', 'fece', 'starà', 'dagl', 'sareste', 'facevi', 'starete', 'starò', 'nello', 'al', 'all', 'sua', 'avranno', 'fosti', 'faceva', 'sui', 'ma', 'fui', 'mia', 'faccio', 'faresti', 'stia', 'sono', 'il', 'fossimo', 'stareste', 'starebbero', 'tutto', 'avevi', 'stanno', 'dallo', 'avute', 'si', 'sei', 'erano', 'allo', 'foste', 'faremmo', 'tu', 'per', 'contro', 'ci', 'avemmo', 'quale', 'loro', 'faremo', 'hanno', 'stessimo', 'o', 'abbiate', 'è', 'le', 'agli', 'stesse', 'facciate', 'sto', 'facesse', 'eri', 'sue', 'avreste', 'avete', 'fu', 'essendo', 'siete', 'delle', 'farei', 'stette', 'ai', 'li', 'farete', 'ne', 'stesti', 'avrai', 'facendo', 'sulle', 'starebbe', 'lei', 'nostro', 'alle', 'questo', 'questa', 'ebbi', 'farai', 'nella', 'avresti', 'avuti', 'stiate', 'dalla', 'in', 'stavano', 'facevamo', 'furono', 'abbia', 'alla', 'staranno', 'dall', 'sarà', 'dell', 'fossero', 'facesti', 'dei', 'era', 'facessero', 'coi', 'l', 'tra', 'faceste', 'con', 'ad', 'una', 'ebbe', 'saremmo', 'dal', 'fai', 'facessimo', 'facessi', 'dov', 'quelli', 'aveva', 'stavate', 'sarete', 'hai', 'faccia', 'più', 'fecero', 'stando', 'quelle', 'non', 'steste', 'stetti', 'negli', 'come', 'avrete', 'stessi', 'stessero', 'nell', 'sugl', 'saresti', 'vostri', 'saranno', 'nelle', 'nostri', 'quanti', 'nostra', 'facciano', 'avrò', 'negl', 'dove', 'col', 'perché', 'vi', 'tuo', 'della', 'stavo'}\n",
      "\n",
      "List of stopwords in Kazakh:\n",
      "{'жалт-жұлт', 'осылай', 'алайда', 'әрне', 'ырқ', 'әлденеше', 'әйткенмен', 'тек', 'салым', 'таман', 'митың-митың', 'тарс-тұрс', 'құрау-құрау', 'бәрі', 'барлық', 'емес', 'бойымен', 'әй', 'қана', 'тарбаң-тарбаң', 'сенен', 'пырс', 'кірт', 'пфша', 'әлдене', 'ә', 'япырмай', 'әлдеқашан', 'мыңқ', 'қалт-құлт', 'біз', 'маған', 'дейін', 'эй', 'біздің', 'о', 'осындай', 'әйтпесе', 'олардың', 'анау', 'сенен\\tонан', 'әукім', 'әрине', 'әлдеқалай', 'тарта', 'далаң-далаң', 'морт', 'сіздерден', 'ірк', 'гөрі', 'пай', 'үшін', 'міне', 'мына', 'біздерге', 'осынау', 'менде', 'біздерден', 'барқ', 'арбаң-арбаң', 'ойпырмай', 'дүңк', 'өйткені', 'түге', 'қаралы', 'ыңқ', 'гүрс', 'сарт', 'жалп', 'әні', 'бәрекелді', 'арс', 'сыңқ', 'маңқ', 'кәнеки', 'сарт-сұрт', 'жоқ', 'солай', 'сізден', 'өзім', 'пішту', 'сондай', 'әттеген-ай', 'беу', 'күңк', 'ах', 'оған', 'кейін', 'әрқалай', 'соң', 'желп', 'ғана', 'арсалаң-арсалаң', 'қаңқ-қаңқ', 'моһ', 'ай', 'ол', 'бүгжең-бүгжең', 'арқылы', 'мұндай', 'бізден', 'кейбір', 'менің', 'бірнеше', 'бүйт', 'үйт', 'бізбен', 'уай', 'күшім', 'қыңқ', 'ербелең-ербелең', 'бойы', 'қызараң-қызараң', 'астапыралла', 'арнайы', 'әрқайсы', 'қоса', 'бетер', 'өзге', 'алатау', 'ешкім', 'таяу', 'біздердің', 'сорап', 'біреу', 'оның', 'ешбір', 'ғұрлы', 'күрт', 'сіздер', 'жаракімалла', 'онда', 'кә', 'шырт', 'әрбір', 'әлдекім', 'дәнеңе', 'кәне', 'оһо', 'бұндай', 'сондықтан', 'я', 'ал', 'қаңғыр-күңгір', 'өзінің', 'өй', 'ырс', 'қолп', 'батыр-бұтыр', 'әйда', 'сізге', 'аһа', 'таңқ', 'қалт-қалт', 'олардан', 'түгел', 'қайсыбір', 'ешқашан', 'ие', 'қайқаң-құйқаң', 'шаңқ', 'мен', 'осы', 'ыржың-тыржың', 'біздермен', 'қарай', 'кәні', 'уау', 'бері', 'сіз', 'күллі', 'тарс', 'жалт-жалт', 'себебі', 'өзіне', 'кейбіреу', 'оларға', 'сіздердің', 'сонымен', 'әншейін', 'әлдеқайдан', 'менен', 'өз', 'ох', 'еш', 'әркім', 'қош-қош', 'әттең', 'біздер', 'бар', 'құрау', 'сенің', 'борт', 'сізбен', 'ура', 'алдақашан', 'сенде', 'бірге', 'тағы', 'қорс', 'ау', 'ғұрлым', 'сияқты', 'сіздерге', 'ешқайсы', 'сен', 'одан', 'әттегенай', 'уа', 'қаңқ-құңқ', 'бірақ', 'шамалы', 'сона', 'олармен', 'сенімен', 'шейін', 'онымен', 'бұл', 'ешқандай', 'е', 'дүрс', 'мынау', 'кәһ', 'өзімнің', 'туралы', 'пай-пай', 'ана', 'өзің', 'масқарай', 'тәк', 'сонау', 'мышы', 'арс-ұрс', 'салаң-сұлаң', 'бізге', 'ой', 'пішә', 'паһ-паһ', 'шақты', 'дегенмен', 'сіздермен', 'сол', 'саңқ', 'шаңқ-шаңқ', 'сайын', 'эх', 'бұрын', 'өзіме', 'бірдеме', 'бүкіл', 'былп', 'саған', 'па', 'жуық', 'мәссаған', 'шіркін', 'шаңқ-шұңқ', 'болп', 'ештеме', 'ей', 'тыңқ', 'менімен', 'қап', 'алақай', 'тырс', 'тағыда', 'барша', 'өзі', 'қатар', 'шіңк', 'олар', 'шек', 'сіздің', 'құр', 'шәйт', 'айтпақшы'}\n",
      "\n",
      "List of stopwords in Nepali:\n",
      "{'को', 'तथा', 'त्सपछि', 'यस्तो', 'रूप', 'तुरुन्तै', 'त्सैले', 'तिर', 'देखेर', 'भर', 'जसले', 'एक', 'नौ', 'सायद', 'भन्', 'प्लस', 'यो', 'बीचमा', 'गयौ', 'गरि', 'गरेका', 'पनि', 'जे', 'अब', 'छौं', 'उहालाई', 'एउटै', 'गर्छु', 'फेरी', 'आफ्नै', 'नत्र', 'जसको', 'बिशेष', 'अक्सर', 'राम्रो', 'मेरो', 'सबै', 'पाँचौं', 'यति', 'लाई', 'किनभने', 'पटक', 'समय', 'अन्यत्र', 'अगाडी', 'आए', 'हुन्', 'बने', 'दुई', 'जस्तोसुकै', 'सोही', 'सो', 'गर्नुपर्छ', 'साथै', 'हरेक', 'तर', 'भन्छु', 'उदाहरण', 'कुरा', 'संगै', 'अर्थात', 'ओठ', 'चाले', 'जस्तै', 'गरेको', 'पाँच', 'राख्छ', 'हुन', 'सारा', 'दिनुभएको', 'उनले', 'गर्न', 'छ', 'तपाई', 'नजिकै', 'जस्तो', 'चाहन्छु', 'देखे', 'जाहिर', 'आत्म', 'कसैले', 'गैर', 'कोही', 'बारे', 'तेस्रो', 'साथ', 'आफ्नो', 'भएको', 'दोस्रो', 'साँच्चै', 'अर्को', 'लगभग', 'ले', 'वास्तवमा', 'रही', 'अन्यथा', 'तिनीहरू', 'पर्छ', 'जसलाई', 'कतै', 'गरौं', 'छु', 'तदनुसार', 'अनुसार', 'आदि', 'जसमा', 'चाहिए', 'धेरै', 'रहेको', 'अर्थात्', 'ठीक', 'देखि', 'म', 'पर्थ्यो', 'थिएन', 'बाहिर', 'अझै', 'पक्का', 'गरी', 'एकदम', 'हुने', 'जुन', 'तिनीहरुको', 'निम्न', 'पछिल्लो', 'अरुलाई', 'नयाँ', 'हुन्छ', 'कम से कम', 'लागि', 'तिमी', 'संग', 'आफूलाई', 'जो', 'वरीपरी', 'केही', 'यसको', 'निम्नानुसार', 'प्रति', 'यस', 'गर्दै', 'त्यो', 'तिनी', 'त', 'आजको', 'का', 'चार', 'जताततै', 'क्रमशः', 'भन्दा', 'नि', 'उनको', 'भित्री', 'आयो', 'भए', 'भित्र', 'नै', 'कसरी', 'जब', 'तीन', 'शायद', 'सधै', 'अन्य', 'छन्', 'पहिल्यै', 'भन', 'रहेका', 'जान', 'भन्नुभयो', 'मलाई', 'राखे', 'हरे', 'गए', 'गर्ने', 'मात्र', 'यहाँ', 'गर्नु', 'कि', 'अन्तर्गत', 'तापनी', 'बाहेक', 'बीच', 'पक्कै', 'त्यहाँ', 'कृपया', 'सम्म', 'दिनुहुन्छ', 'हो', 'पूर्व', 'देखियो', 'कसै', 'यथोचित', 'थियो', 'यसबाहेक', 'पहिले', 'तेस्कारण', 'मा', 'चाहनुहुन्छ', 'यहाँसम्म', 'भन्ने', 'न', 'जसबाट', 'किन', 'सक्छ', 'प्रतेक', 'यी', 'अलग', 'यद्यपि', 'के', 'बरु', 'आफू', 'कुनै', 'तपाईको', 'छैन', 'जहाँ', 'पहिलो', 'कहिलेकाहीं', 'या', 'सबैलाई', 'सात', 'थिए', 'उप', 'कहाँबाट', 'पछि', 'भन्छन्', 'दिए', 'छू', 'जबकि', 'सट्टा', 'र', 'देखेको', 'अरु', 'यसपछि', 'तल', 'गरेर', 'भने', 'निम्ति', 'औं', 'सही', 'मुख्य', 'तिनिहरुलाई', 'ती', 'निर्दिष्ट', 'यदि', 'यसरी', 'यसो', 'पर्याप्त', 'माथि', 'सम्भव', 'स्पष्ट', 'तत्काल', 'बिरुद्ध', 'गर्छ', 'देखिन्छ'}\n",
      "\n",
      "List of stopwords in Norwegian:\n",
      "{'sin', 'hver', 'so', 'hans', 'hvis', 'hvorfor', 'nokon', 'medan', 'kan', 'kunne', 'eitt', 'inn', 'noko', 'deira', 'nokor', 'fordi', 'somme', 'hennar', 'vere', 'jeg', 'deres', 'av', 'deg', 'kun', 'som', 'før', 'sine', 'siden', 'dem', 'der', 'kven', 'dykk', 'ho', 'uten', 'ned', 'at', 'du', 'ingi', 'eller', 'med', 'da', 'mot', 'sånn', 'enn', 'mi', 'en', 'hvilken', 'di', 'er', 'blitt', 'ha', 'sia', 'ble', 'eit', 'den', 'korleis', 'sidan', 'inkje', 'ein', 'mitt', 'et', 'mine', 'varte', 'sitt', 'vort', 'kom', 'blei', 'um', 'bli', 'upp', 'no', 'både', 'i', 'inni', 'etter', 'men', 'mykje', 'kvar', 'det', 'meget', 'vors', 'elles', 'om', 'hoe', 'vore', 'hvilke', 'disse', 'din', 'de', 'si', 'sjøl', 'dere', 'då', 'hennes', 'verte', 'hvor', 'ett', 'han', 'vil', 'nokre', 'fra', 'og', 'hun', 'henne', 'honom', 'til', 'me', 'hvem', 'ingen', 'hvordan', 'vart', 'hva', 'noe', 'ikkje', 'somt', 'være', 'hossen', 'min', 'båe', 'her', 'kvifor', 'denne', 'noen', 'ut', 'alle', 'mange', 'deires', 'hoss', 'ditt', 'eg', 'har', 'man', 'opp', 'over', 'så', 'noka', 'dei', 'deim', 'ikke', 'når', 'korso', 'for', 'hjå', 'slik', 'selv', 'dykkar', 'vært', 'kva', 'nå', 'mellom', 'også', 'samme', 'hadde', 'å', 'blir', 'skulle', 'var', 'kvi', 'meg', 'vår', 'kvarhelst', 'bare', 'på', 'ville', 'ja', 'dette', 'seg', 'ved', 'begge', 'vi', 'skal', 'oss'}\n",
      "\n",
      "List of stopwords in Portuguese:\n",
      "{'esse', 'ao', 'temos', 'estão', 'ela', 'este', 'éramos', 'por', 'houveria', 'não', 'estamos', 'meu', 'pelos', 'qual', 'você', 'hajam', 'lhes', 'se', 'tivera', 'houveremos', 'mas', 'que', 'foram', 'teu', 'forem', 'nossa', 'houve', 'houverei', 'formos', 'e', 'tinha', 'estávamos', 'lhe', 'ele', 'como', 'elas', 'havemos', 'ou', 'tivermos', 'nem', 'sejamos', 'do', 'às', 'vocês', 'aos', 'sem', 'tiver', 'entre', 'são', 'já', 'da', 'teremos', 'pelas', 'para', 'será', 'mesmo', 'aquele', 'em', 'tínhamos', 'teus', 'estiverem', 'fôssemos', 'estes', 'sou', 'aquelas', 'minha', 'estivermos', 'delas', 'houvessem', 'tenham', 'tivéssemos', 'teríamos', 'tém', 'teve', 'eu', 'tua', 'terão', 'essas', 'a', 'serão', 'estive', 'houver', 'foi', 'tinham', 'houvemos', 'tivessem', 'terá', 'eram', 'um', 'estivéssemos', 'as', 'quando', 'fosse', 'dos', 'no', 'com', 'dele', 'teriam', 'hei', 'depois', 'estas', 'houvéssemos', 'seremos', 'somos', 'estou', 'estavam', 'houveram', 'meus', 'hão', 'sua', 'à', 'pela', 'nossas', 'estejam', 'fôramos', 'haja', 'fui', 'houverão', 'estivesse', 'isso', 'nós', 'te', 'terei', 'esteve', 'estivessem', 'numa', 'estivera', 'de', 'vos', 'tu', 'seja', 'minhas', 'eles', 'o', 'até', 'isto', 'houverá', 'das', 'houvesse', 'nas', 'fossem', 'tenho', 'aqueles', 'deles', 'aquilo', 'uma', 'só', 'me', 'teria', 'houvéramos', 'hajamos', 'seria', 'pelo', 'fomos', 'está', 'na', 'também', 'esta', 'houvermos', 'fora', 'houvera', 'houverem', 'tem', 'estiveram', 'tenhamos', 'estava', 'seríamos', 'estejamos', 'seus', 'tenha', 'serei', 'era', 'há', 'for', 'mais', 'muito', 'seu', 'nosso', 'nossos', 'tiveram', 'tivemos', 'tuas', 'seriam', 'é', 'suas', 'sejam', 'essa', 'tiverem', 'os', 'tive', 'estivéramos', 'houveriam', 'estivemos', 'esteja', 'nos', 'quem', 'tivéramos', 'num', 'esses', 'dela', 'estiver', 'tivesse', 'houveríamos', 'aquela'}\n",
      "\n",
      "List of stopwords in Romanian:\n",
      "{'este', 'voştri', 'mulţi', 'iar', 'sa-mi', 'lângă', 'desi', 'zice', 'suntem', 'ea', 'meu', 'doar', 'ta', 'fost', 'puţină', 'nouă', 'iti', 'poate', 'doilea', 'acestia', 'unele', 'primul', 'sunt', 'm', 'vă', 'da', 'dat', 'citeva', 'v', 'aici', 'intre', 'îmi', 'acest', 'aceşti', 'un', 'acea', 'ale', 'doi', 'altceva', 'uneia', 'oricând', 'eşti', 'cîtva', 'cîţi', 'să', 'aceasta', 'lui', 'cîte', 'i', 'atatea', 'decit', 'atatia', 'acei', 'multi', 'despre', 'aibă', 'te', 'il', 'incit', 'trei', 'atit', 'ar', 'pai', 'cind', 'tu', 'care', 'sus', 'dupa', 'le', 'puţina', 'altii', 'cărei', 'toţi', 'ai', 'altul', 'ne', 'oricum', 'atunci', 'toata', 'mai', 'tuturor', 'nişte', 'unul', 'unei', 'sub', 'ba', 'ăstea', 'fara', 'cumva', 'deşi', 'apoi', 'atita', 'imi', 'tocmai', 'fata', 'aţi', 'dintr-', 'isi', 'careia', 'mîine', 'abia', 'cine', 'cel', 'acela', 'tăi', 'tale', 'ti', 'inainte', 'fie', 'putini', 'ceilalti', 'fiţi', 'zi', 'deci', 'nostru', 'asa', 'voastră', 'dau', 'ala', 'ceea', 'cam', 'altcineva', 'dintre', 'cele', 'chiar', 'foarte', 'ului', 'va', 'mie', 'mine', 'mult', 'noastră', 'are', 'fără', 'daca', 'sau', 'sa', 'noastre', 'acestea', 'câte', 'nou', 'fiecare', 'si', 'tău', 'totul', 'citi', 'vouă', 'căror', 'dă', 'nici', 'mei', 'ţi', 'cand', 'pentru', 'tine', 'acestei', 'sintem', 'nu', 'alea', 'aceea', 'adica', 'cat', 'parca', 't', 'atitea', 'oricînd', 'mod', 'după', 'dintr', 'carora', 'cînd', 'vreun', 'acel', 'una', 'el', 'am', 'ăsta', 'altfel', 'acesta', 'astea', 'fel', 'totuşi', 'multă', 'unu', 'unuia', 'puţin', 'vi', 'voastre', 'avea', 'oricare', 'au', 'orice', 'sai', 'peste', 'vreo', 'îi', 'e', 'toată', 'mea', 'îţi', 'spate', 'pot', 'ăla', 'aveţi', 'pina', 'spre', 'mi', 'oricât', 'prea', 'ceva', 'oricît', 'alta', 'aceeasi', 'sint', 'eu', 'a', 'cita', 'eram', 'avut', 'cât', 'as', 'pic', 'tot', 'pe', 'aceste', 'ce', 'al', 'ăştia', 'ii', 'două', 'uneori', 'cite', 'câţi', 'caruia', 'aş', 'ei', 'printr-', 'cea', 'asupra', 'deja', 'totusi', 'ălea', 'noua', 'celor', 'aceia', 'său', 'li', 'face', 'drept', 'sale', 'oriunde', 'u', 'mâine', 'câtva', 'era', 'în', 'prin', 'toate', 'fii', 'săi', 'cei', 'nostri', 'alte', 'lor', 'alti', 'undeva', 'cu', 'inca', 'vom', 'se', 'voi', 'anume', 'asta', 'pînă', 'mă', 'avem', 'insa', 'ele', 'unor', 'numai', 'cărui', 'noi', 'nimic', 'catre', 'atitia', 'această', 'şi', 'or', 'fim', 'lîngă', 'inapoi', 'patra', 'îl', 'cineva', 'fiu', 'alt', 'multe', 'la', 'treia', 'ul', 'atare', 'nimeni', 'vostru', 'ia', 'toti', 'astfel', 'sunteţi', 'niste', 'ţie', 'acele', 'până', 'prima', 'atata', 'cui', 'mele', 'oricine', 'aia', 'căci', 'intr', 'că', 'ma', 'mereu', 'ni', 'acestui', 'cît', 'din', 'de', 'ci', 'dacă', 'atat', 'o', 'noştri', 'unii', 'cum', 'unde', 'sa-ti', 'dată', 'multa', 'cit', 'fi', 'deasupra', 'in', 'acelasi', 'acelea', 'ori', 'treilea', 'unui', 'citiva', 'către', 'vor', 'dar', 'aceştia', 'ati', 'ca', 'unora', 'patru'}\n",
      "\n",
      "List of stopwords in Russian:\n",
      "{'иногда', 'себя', 'ты', 'из', 'какая', 'же', 'ее', 'надо', 'так', 'без', 'бы', 'тут', 'и', 'конечно', 'нас', 'быть', 'о', 'чтоб', 'ж', 'свою', 'ну', 'нибудь', 'про', 'чем', 'здесь', 'вам', 'себе', 'впрочем', 'тем', 'их', 'им', 'совсем', 'перед', 'нет', 'того', 'но', 'а', 'уже', 'другой', 'что', 'если', 'ничего', 'зачем', 'них', 'есть', 'она', 'по', 'три', 'сейчас', 'потому', 'они', 'лучше', 'ней', 'эту', 'об', 'больше', 'много', 'можно', 'от', 'было', 'чуть', 'я', 'вдруг', 'два', 'да', 'с', 'где', 'этой', 'через', 'после', 'будет', 'такой', 'между', 'вас', 'ведь', 'его', 'кто', 'за', 'при', 'или', 'был', 'еще', 'него', 'мой', 'меня', 'сам', 'какой', 'этот', 'во', 'ли', 'тот', 'всю', 'то', 'до', 'куда', 'как', 'раз', 'всех', 'может', 'мы', 'там', 'только', 'вы', 'не', 'на', 'была', 'один', 'разве', 'потом', 'он', 'этого', 'у', 'эти', 'будто', 'вот', 'в', 'даже', 'нельзя', 'все', 'том', 'никогда', 'когда', 'моя', 'для', 'этом', 'к', 'со', 'опять', 'нее', 'всего', 'тоже', 'всегда', 'мне', 'были', 'чего', 'более', 'уж', 'ей', 'хоть', 'тогда', 'чтобы', 'теперь', 'ним', 'над', 'хорошо', 'почти', 'наконец', 'тебя', 'ни', 'ему', 'под'}\n",
      "\n",
      "List of stopwords in Spanish:\n",
      "{'hubieron', 'este', 'tuvierais', 'estuvieran', 'fuésemos', 'habidas', 'tengan', 'tendrías', 'tenías', 'estabas', 'tenían', 'tengas', 'tendríais', 'tuvimos', 'como', 'estáis', 'lo', 'estén', 'seas', 'fueseis', 'nuestro', 'tenemos', 'les', 'porque', 'fuera', 'habrán', 'muchos', 'y', 'tendrían', 'tenidas', 'un', 'fuisteis', 'sea', 'míos', 'habría', 'tenía', 'tuya', 'habréis', 'hayáis', 'habida', 'estoy', 'te', 'otra', 'fueras', 'tu', 'tenida', 'fuesen', 'sus', 'le', 'tuyos', 'los', 'ellas', 'mis', 'hubierais', 'vuestra', 'nuestras', 'tendré', 'hubieran', 'quien', 'hemos', 'tendríamos', 'sentido', 'hubisteis', 'nos', 'ya', 'seáis', 'estéis', 'fuerais', 'pero', 'tienes', 'estuvierais', 'otros', 'sobre', 'estamos', 'tuviéramos', 'habíais', 'que', 'sentida', 'hubiésemos', 'mucho', 'ti', 'algo', 'fue', 'haya', 'antes', 'vuestras', 'fuese', 'estarás', 'las', 'habrá', 'para', 'mío', 'en', 'qué', 'fueses', 'también', 'estará', 'sentid', 'estés', 'estuviéramos', 'del', 'más', 'tenido', 'seamos', 'tened', 'tendrá', 'ellos', 'seré', 'todo', 'tanto', 'fueron', 'habrías', 'hayas', 'tendrán', 'tuvisteis', 'seréis', 'esos', 'ese', 'donde', 'contra', 'había', 'me', 'mías', 'sentidos', 'hubieseis', 'está', 'habrían', 'hubiste', 'tendréis', 'estarías', 'hubo', 'seríamos', 'hubiéramos', 'fueran', 'estaría', 'estaríamos', 'tuviste', 'con', 'una', 'el', 'hasta', 'habíamos', 'os', 'habían', 'seríais', 'estaremos', 'esa', 'tendría', 'todos', 'estados', 'ella', 'tuviese', 'esas', 'suya', 'sintiendo', 'eras', 'tenéis', 'fuéramos', 'hay', 'otro', 'sí', 'hayamos', 'serás', 'has', 'estuviese', 'e', 'estuvo', 'estuviera', 'entre', 'estábamos', 'estuvieses', 'estadas', 'hube', 'mi', 'ha', 'hubiera', 'su', 'tenga', 'serías', 'tuviésemos', 'cual', 'quienes', 'estaré', 'estuvieras', 'a', 'habríamos', 'tú', 'habremos', 'suyas', 'estas', 'estarían', 'somos', 'al', 'tuyas', 'vosotros', 'vosotras', 'habrás', 'fui', 'serán', 'tuviera', 'hubiesen', 'estás', 'estando', 'estuviésemos', 'estuviesen', 'tuviesen', 'estuviste', 'habiendo', 'tuvieseis', 'esta', 'son', 'otras', 'he', 'tus', 'era', 'estuve', 'esté', 'tuvieran', 'estuvimos', 'estuvieron', 'mía', 'habido', 'tendrás', 'fuiste', 'hayan', 'teniendo', 'estaréis', 'teníais', 'sin', 'nuestros', 'nuestra', 'por', 'éramos', 'tuvieras', 'estada', 'algunos', 'cuando', 'estuvieseis', 'se', 'uno', 'algunas', 'estos', 'tuyo', 'estado', 'estabais', 'tuvieron', 'estuvisteis', 'estarán', 'sería', 'esto', 'hubieras', 'tiene', 'eso', 'estaba', 'habéis', 'él', 'poco', 'será', 'nosotras', 'fuimos', 'estar', 'suyos', 'siente', 'la', 'tenidos', 'soy', 'tuve', 'ante', 'es', 'estaban', 'no', 'hubimos', 'tendremos', 'seremos', 'habías', 'estaríais', 'hubieses', 'unos', 'erais', 'ni', 'teníamos', 'hubiese', 'habríais', 'de', 'habré', 'o', 'han', 'estemos', 'habidos', 'estad', 'tienen', 'nada', 'mí', 'nosotros', 'serían', 'tuvieses', 'desde', 'están', 'sois', 'durante', 'sentidas', 'tengáis', 'eres', 'tuvo', 'vuestros', 'tengo', 'suyo', 'yo', 'vuestro', 'eran', 'muy', 'tengamos', 'sean'}\n",
      "\n",
      "List of stopwords in Swedish:\n",
      "{'ej', 'sin', 'mig', 'hans', 'vilken', 'kan', 'icke', 'över', 'samma', 'någon', 'ju', 'sina', 'vilka', 'och', 'sedan', 'mina', 'av', 'som', 'vårt', 'mycket', 'dina', 'vars', 'dem', 'efter', 'hur', 'är', 'inte', 'du', 'vid', 'eller', 'med', 'mot', 'hade', 'vad', 'när', 'mellan', 'där', 'en', 'dig', 'er', 'ha', 'den', 'några', 'ert', 'mitt', 'till', 'sitta', 'denna', 'att', 'bli', 'upp', 'vem', 'varför', 'i', 'för', 'här', 'men', 'jag', 'kunde', 'det', 'sådant', 'om', 'varje', 'ni', 'blev', 'varit', 'än', 'de', 'din', 'då', 'hennes', 'våra', 'ett', 'han', 'själv', 'allt', 'hon', 'henne', 'honom', 'ingen', 'vilket', 'vart', 'nu', 'min', 'under', 'ut', 'ditt', 'har', 'man', 'så', 'alla', 'blivit', 'vilkas', 'åt', 'era', 'sådana', 'något', 'sig', 'dessa', 'utan', 'från', 'skulle', 'var', 'detta', 'blir', 'sådan', 'inom', 'deras', 'vår', 'på', 'vara', 'vi', 'dess', 'oss'}\n",
      "\n",
      "List of stopwords in Turkish:\n",
      "{'az', 'eğer', 'bazı', 'niye', 'daha', 've', 'mu', 'birkaç', 'nasıl', 'her', 'kim', 'diye', 'ile', 'ki', 'en', 'nerde', 'siz', 'çok', 'kez', 'acaba', 'için', 'sanki', 'de', 'veya', 'şu', 'aslında', 'hep', 'nerede', 'defa', 'hepsi', 'niçin', 'o', 'nereye', 'mü', 'belki', 'birşey', 'neden', 'şey', 'mı', 'tüm', 'hiç', 'biz', 'ama', 'ise', 'ya', 'biri', 'hem', 'çünkü', 'ne', 'gibi', 'yani', 'da', 'bu'}\n"
     ]
    }
   ],
   "source": [
    "from nltk.corpus import stopwords\n",
    "\n",
    "print(\"\\nList of stopwords in English:\")\n",
    "result = set(stopwords.words('english'))\n",
    "print(result)\n",
    "\n",
    "print(\"\\nList of stopwords in Arabic:\")\n",
    "result = set(stopwords.words('arabic'))\n",
    "print(result)\n",
    "\n",
    "print(\"\\nList of stopwords in Azerbaijani:\")\n",
    "result = set(stopwords.words('azerbaijani'))\n",
    "print(result)\n",
    "\n",
    "print(\"\\nList of stopwords in Danish:\")\n",
    "result = set(stopwords.words('danish'))\n",
    "print(result)\n",
    "\n",
    "print(\"\\nList of stopwords in Dutch:\")\n",
    "result = set(stopwords.words('dutch'))\n",
    "print(result)\n",
    "\n",
    "print(\"\\nList of stopwords in Finnish:\")\n",
    "result = set(stopwords.words('finnish'))\n",
    "print(result)\n",
    "\n",
    "print(\"\\nList of stopwords in French:\")\n",
    "result = set(stopwords.words('french'))\n",
    "print(result)\n",
    "\n",
    "print(\"\\nList of stopwords in German:\")\n",
    "result = set(stopwords.words('german'))\n",
    "print(result)\n",
    "\n",
    "print(\"\\nList of stopwords in Greek:\")\n",
    "result = set(stopwords.words('greek'))\n",
    "print(result)\n",
    "\n",
    "print(\"\\nList of stopwords in Hungarian:\")\n",
    "result = set(stopwords.words('hungarian'))\n",
    "print(result)\n",
    "\n",
    "print(\"\\nList of stopwords in Indonesian:\")\n",
    "result = set(stopwords.words('indonesian'))\n",
    "print(result)\n",
    "\n",
    "print(\"\\nList of stopwords in Italian:\")\n",
    "result = set(stopwords.words('italian'))\n",
    "print(result)\n",
    "\n",
    "print(\"\\nList of stopwords in Kazakh:\")\n",
    "result = set(stopwords.words('kazakh'))\n",
    "print(result)\n",
    "\n",
    "print(\"\\nList of stopwords in Nepali:\")\n",
    "result = set(stopwords.words('nepali'))\n",
    "print(result)\n",
    "\n",
    "print(\"\\nList of stopwords in Norwegian:\")\n",
    "result = set(stopwords.words('norwegian'))\n",
    "print(result)\n",
    "\n",
    "print(\"\\nList of stopwords in Portuguese:\")\n",
    "result = set(stopwords.words('portuguese'))\n",
    "print(result)\n",
    "\n",
    "print(\"\\nList of stopwords in Romanian:\")\n",
    "result = set(stopwords.words('romanian'))\n",
    "print(result)\n",
    "\n",
    "print(\"\\nList of stopwords in Russian:\")\n",
    "result = set(stopwords.words('russian'))\n",
    "print(result)\n",
    "\n",
    "print(\"\\nList of stopwords in Spanish:\")\n",
    "result = set(stopwords.words('spanish'))\n",
    "print(result)\n",
    "\n",
    "print(\"\\nList of stopwords in Swedish:\")\n",
    "result = set(stopwords.words('swedish'))\n",
    "print(result)\n",
    "\n",
    "print(\"\\nList of stopwords in Turkish:\")\n",
    "result = set(stopwords.words('turkish'))\n",
    "print(result)"
   ]
  },
  {
   "cell_type": "markdown",
   "metadata": {},
   "source": [
    "### 4. Write a Python NLTK program to remove stop words from a given text."
   ]
  },
  {
   "cell_type": "code",
   "execution_count": 13,
   "metadata": {},
   "outputs": [
    {
     "data": {
      "text/plain": [
       "['In',\n",
       " 'computing,',\n",
       " 'stop',\n",
       " 'words',\n",
       " 'words',\n",
       " 'filtered',\n",
       " 'processing',\n",
       " 'natural',\n",
       " 'language',\n",
       " 'data',\n",
       " '(text).',\n",
       " 'Though',\n",
       " '\"stop',\n",
       " 'words\"',\n",
       " 'usually',\n",
       " 'refers',\n",
       " 'common',\n",
       " 'words',\n",
       " 'language,',\n",
       " 'single',\n",
       " 'universal',\n",
       " 'list',\n",
       " 'stop',\n",
       " 'words',\n",
       " 'used',\n",
       " 'natural',\n",
       " 'language',\n",
       " 'processing',\n",
       " 'tools,',\n",
       " 'indeed',\n",
       " 'tools',\n",
       " 'even',\n",
       " 'use',\n",
       " 'list.',\n",
       " 'Some',\n",
       " 'tools',\n",
       " 'specifically',\n",
       " 'avoid',\n",
       " 'removing',\n",
       " 'stop',\n",
       " 'words',\n",
       " 'support',\n",
       " 'phrase',\n",
       " 'search.']"
      ]
     },
     "execution_count": 13,
     "metadata": {},
     "output_type": "execute_result"
    }
   ],
   "source": [
    "from nltk.corpus import stopwords\n",
    "from nltk.tokenize import word_tokenize\n",
    "\n",
    "text = '''\n",
    "In computing, stop words are words which are filtered out before or after \n",
    "processing of natural language data (text). Though \"stop words\" usually \n",
    "refers to the most common words in a language, there is no single universal \n",
    "list of stop words used by all natural language processing tools, and \n",
    "indeed not all tools even use such a list. Some tools specifically avoid \n",
    "removing these stop words to support phrase search.\n",
    "'''\n",
    "\n",
    "stop_words = set(stopwords.words('english'))\n",
    "# words = word_tokenize(text)        # This will tokenize but we still have punctuations that we don't want.\n",
    "words = text.split()                 # We need to use split becase it will remove punctuations. \n",
    " \n",
    "[word for word in words if word not in stop_words]"
   ]
  },
  {
   "cell_type": "markdown",
   "metadata": {},
   "source": [
    "### 5. Write a Python NLTK program to omit some given stop words from the stopwords list."
   ]
  },
  {
   "cell_type": "code",
   "execution_count": 23,
   "metadata": {},
   "outputs": [
    {
     "name": "stdout",
     "output_type": "stream",
     "text": [
      "{'so', \"doesn't\", 'most', 'than', 'is', 'on', 'haven', 'yours', 'herself', 'hers', \"aren't\", 'she', 'an', 'each', 're', 'being', 'during', 'has', 'd', \"couldn't\", 'its', 'his', \"wouldn't\", 'isn', 'their', \"that'll\", 'been', 'but', 'do', 'at', 'against', 'wouldn', 'because', 'these', 'shan', 'same', 'ain', \"haven't\", 'm', \"shan't\", 'or', 'to', 'does', \"you've\", 'then', 'why', 'wasn', 'had', 'and', 'didn', 'shouldn', 'be', 'there', \"hadn't\", \"mustn't\", 'y', 'now', 'until', 'the', 'our', 'too', 'we', 'any', 'how', 'some', 'here', 'a', 'those', 'that', 'while', 'before', 'can', \"weren't\", \"she's\", 'aren', \"shouldn't\", \"should've\", 'as', 'are', 'no', 'needn', 'i', 'up', 'by', 'did', \"you'd\", 'all', 'where', 've', 'my', 'ma', 'them', 's', 'out', 'theirs', 'mightn', 'don', 'doesn', 'whom', 'yourself', \"hasn't\", 'just', 'myself', 'will', 'o', 'doing', 'having', 'only', 'with', 'should', 'won', 'me', 'were', 'himself', 'hasn', 'couldn', 'above', 'of', 'nor', 'weren', 'after', \"you're\", 'itself', 'her', 'under', 'own', 't', 'him', 'in', \"won't\", 'he', 'below', 'over', \"don't\", \"you'll\", 'which', \"it's\", 'have', 'if', 'through', 'other', 'll', \"isn't\", 'for', 'mustn', \"wasn't\", 'was', 'not', 'what', 'your', 'they', 'yourselves', 'themselves', 'am', 'more', 'who', 'about', 'further', \"needn't\", 'ours', 'very', 'this', 'into', 'when', \"mightn't\", 'ourselves', 'hadn', 'it', 'off', 'down', 'between', 'such', 'you', 'few', 'both', \"didn't\"}\n"
     ]
    }
   ],
   "source": [
    "from nltk.corpus import stopwords\n",
    "\n",
    "stop_words = set(stopwords.words('english'))\n",
    "remove_words = set(['again', 'once', 'from'])\n",
    "\n",
    "fresh_words = stop_words - remove_words\n",
    "print(fresh_words)"
   ]
  },
  {
   "cell_type": "code",
   "execution_count": 25,
   "metadata": {},
   "outputs": [
    {
     "name": "stdout",
     "output_type": "stream",
     "text": [
      "179\n",
      "176\n"
     ]
    }
   ],
   "source": [
    "# Here we removed 3 words from default stop words list. To confirm - \n",
    "\n",
    "print(len(stop_words))\n",
    "print(len(fresh_words))"
   ]
  },
  {
   "cell_type": "markdown",
   "metadata": {},
   "source": [
    "### 6. Write a Python NLTK program to find the definition and examples of a given word using WordNet.\n",
    "\n",
    "**From Wikipedia**,\n",
    "\n",
    "- WordNet is a **lexical database** for the English language. \n",
    "- It **groups English words into sets of synonyms** called **synsets**, provides short definitions and usage examples, and records a number of relations among these synonym sets or their members. \n",
    "- WordNet can thus be seen as a **combination of dictionary** and thesaurus. \n",
    "- While it is **accessible to human users via a web browser**, its **primary use is in automatic text analysis and artificial intelligence applications**. \n",
    "- The database and software tools have been released under a BSD style license and are freely available for download from the WordNet website. \n",
    "- Both the lexicographic data (lexicographer files) and the compiler (called grind) for producing the distributed database are available."
   ]
  },
  {
   "cell_type": "code",
   "execution_count": 14,
   "metadata": {},
   "outputs": [
    {
     "name": "stdout",
     "output_type": "stream",
     "text": [
      "Defination of the choosen word:\n",
      "a hostile meeting of opposing military forces in the course of a war\n",
      "\n",
      "Examples of the chosen word:\n",
      "['Grant won a decisive victory in the battle of Chickamauga', 'he lost his romantic ideas about war when he got into a real engagement']\n"
     ]
    }
   ],
   "source": [
    "from nltk.corpus import wordnet\n",
    "syns = wordnet.synsets('fight')\n",
    "\n",
    "print('Defination of the choosen word:')\n",
    "print(syns[0].definition())\n",
    "\n",
    "print('\\nExamples of the chosen word:')\n",
    "print(syns[0].examples())"
   ]
  },
  {
   "cell_type": "markdown",
   "metadata": {},
   "source": [
    "### 7. Write a Python NLTK program to find the sets of synonyms and antonyms of a given word.\n",
    "\n",
    "**From Winkled**,\n",
    "- WordNet is a lexical database for the English language. \n",
    "- It groups English words into sets of synonyms called synsets, provides short definitions and usage examples, and records a number of relations among these synonym sets or their members."
   ]
  },
  {
   "cell_type": "code",
   "execution_count": 30,
   "metadata": {},
   "outputs": [
    {
     "name": "stdout",
     "output_type": "stream",
     "text": [
      "Set of Synonyms:\n",
      "{'closing', 'conclusion', 'death', 'remnant', 'last', 'goal', 'terminal', 'destruction', 'close', 'remainder', 'finish', 'end', 'ending', 'terminate', 'cease', 'stop', 'oddment', 'final_stage'}\n",
      "\n",
      "\n",
      "Set of antonyms:\n",
      "{'begin', 'beginning'}\n"
     ]
    }
   ],
   "source": [
    "from nltk.corpus import wordnet\n",
    "syns = wordnet.synsets(\"end\")\n",
    "\n",
    "synonyms = list()\n",
    "antonyms = list()\n",
    "\n",
    "for syn in syns:\n",
    "    for l in syn.lemmas():\n",
    "        synonyms.append(l.name())\n",
    "        if l.antonyms():\n",
    "            antonyms.append(l.antonyms()[0].name())\n",
    "        \n",
    "print('Set of Synonyms:')\n",
    "print(set(synonyms))\n",
    "print('\\n')\n",
    "\n",
    "print('Set of antonyms:')\n",
    "print(set(antonyms))"
   ]
  },
  {
   "cell_type": "markdown",
   "metadata": {},
   "source": [
    "### 8. Write a Python NLTK program to get the overview of the tagset, details of a specific tag in the tagset and details on several related tagsets, using regular expression."
   ]
  },
  {
   "cell_type": "code",
   "execution_count": null,
   "metadata": {},
   "outputs": [],
   "source": []
  },
  {
   "cell_type": "markdown",
   "metadata": {},
   "source": [
    "### 9. Write a Python NLTK program to compare the similarity of two given nouns."
   ]
  },
  {
   "cell_type": "code",
   "execution_count": null,
   "metadata": {},
   "outputs": [],
   "source": []
  },
  {
   "cell_type": "markdown",
   "metadata": {},
   "source": [
    "### 10. Write a Python NLTK program to compare the similarity of two given verbs."
   ]
  },
  {
   "cell_type": "code",
   "execution_count": null,
   "metadata": {},
   "outputs": [],
   "source": []
  },
  {
   "cell_type": "markdown",
   "metadata": {},
   "source": [
    "### 11. Write a Python NLTK program to find the number of male and female names in the names corpus. Print the first 10 male and female names.\n",
    "\n",
    "**Note**: The names corpus contains a total of around 2943 male (male.txt) and 5001 female (female.txt) names. It's compiled by Kantrowitz, Ross."
   ]
  },
  {
   "cell_type": "code",
   "execution_count": null,
   "metadata": {},
   "outputs": [],
   "source": []
  },
  {
   "cell_type": "markdown",
   "metadata": {},
   "source": [
    "### 12. Write a Python NLTK program to print the first 15 random combine labeled male and labeled female names from names corpus."
   ]
  },
  {
   "cell_type": "code",
   "execution_count": null,
   "metadata": {},
   "outputs": [],
   "source": []
  },
  {
   "cell_type": "markdown",
   "metadata": {},
   "source": [
    "### 13. Write a Python NLTK program to extract the last letter of all the labeled names and create a new array with the last letter of each name and the associated label."
   ]
  },
  {
   "cell_type": "code",
   "execution_count": null,
   "metadata": {},
   "outputs": [],
   "source": []
  },
  {
   "cell_type": "markdown",
   "metadata": {},
   "source": [
    "#### Problem's Source: [https://www.w3resource.com/python-exercises/nltk/corpus-index.php](https://www.w3resource.com/python-exercises/nltk/corpus-index.php)"
   ]
  }
 ],
 "metadata": {
  "kernelspec": {
   "display_name": "Python 3",
   "language": "python",
   "name": "python3"
  },
  "language_info": {
   "codemirror_mode": {
    "name": "ipython",
    "version": 3
   },
   "file_extension": ".py",
   "mimetype": "text/x-python",
   "name": "python",
   "nbconvert_exporter": "python",
   "pygments_lexer": "ipython3",
   "version": "3.7.3"
  }
 },
 "nbformat": 4,
 "nbformat_minor": 2
}
